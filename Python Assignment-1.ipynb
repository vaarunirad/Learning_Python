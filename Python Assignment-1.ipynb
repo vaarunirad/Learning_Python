{
 "cells": [
  {
   "cell_type": "code",
   "execution_count": 6,
   "id": "d27c0fa8",
   "metadata": {},
   "outputs": [
    {
     "name": "stdout",
     "output_type": "stream",
     "text": [
      "162.8894626777442\n"
     ]
    }
   ],
   "source": [
    "#Q1. Using Python script as a calculator: Create the variables n, r, p and assign them values 10, 5, and 100 respectively.\n",
    "#Then evaluate the following expression in the Python console. 𝐴 = 𝑝 (1 + 𝑟/ 100)n\n",
    "\n",
    "n=10\n",
    "r=5\n",
    "p=100\n",
    "\n",
    "A=p*(1+r/100)**n\n",
    "print(A)\n",
    "\n",
    "#Answer: b)162.89"
   ]
  },
  {
   "cell_type": "code",
   "execution_count": 7,
   "id": "01d84236",
   "metadata": {},
   "outputs": [
    {
     "name": "stdout",
     "output_type": "stream",
     "text": [
      "There are 20 students in the class, with 10 who play at least one sport.\n"
     ]
    }
   ],
   "source": [
    "#Q2. In a given string format operation, how will you print the given string. A = 10, B = 20. \n",
    "#Str = \"There are {} students in the class, with {} who play at least one sport.\"\n",
    "\n",
    "A=10\n",
    "B=20\n",
    "Str=\"There are {} students in the class, with {} who play at least one sport.\"\n",
    "\n",
    "print(Str.format(B,A))\n",
    "\n",
    "#Answer: c. print(string.format(b,a))"
   ]
  },
  {
   "cell_type": "code",
   "execution_count": 14,
   "id": "135fe207",
   "metadata": {},
   "outputs": [
    {
     "name": "stdout",
     "output_type": "stream",
     "text": [
      "It goes without saying,\"Time is Money\" and none can deny it.\n"
     ]
    }
   ],
   "source": [
    "#Q3. In a given sample string, How do you print a double quoted string in between a regular string using the escape character?\n",
    "#Sample output = It goes without saying, “Time is Money”, and none can deny it.\n",
    "\n",
    "print(\"It goes without saying,\\\"Time is Money\\\" and none can deny it.\")\n",
    "\n",
    "#Answer: a. print(“It goes without saying, \\“Time is Money\\”, and none can deny it.”)"
   ]
  },
  {
   "cell_type": "code",
   "execution_count": 15,
   "id": "e020a506",
   "metadata": {},
   "outputs": [
    {
     "data": {
      "text/plain": [
       "3"
      ]
     },
     "execution_count": 15,
     "metadata": {},
     "output_type": "execute_result"
    }
   ],
   "source": [
    "#Q4. What will be the output of the following code?\n",
    "\n",
    "#lambda is an anonymous function\n",
    "\n",
    "x = lambda a,b: a//b\n",
    "x(10,3)\n",
    "\n",
    "#Answer: b. 3"
   ]
  },
  {
   "cell_type": "code",
   "execution_count": 18,
   "id": "b31542dd",
   "metadata": {},
   "outputs": [
    {
     "name": "stdout",
     "output_type": "stream",
     "text": [
      "Greater\n",
      "Greater\n"
     ]
    }
   ],
   "source": [
    "#Q5. What will be the output of the following code?\n",
    "\n",
    "A = 10\n",
    "B = 12\n",
    " \n",
    "if A == B:\n",
    "    print(\"Smaller\")\n",
    "elif A < B:\n",
    "    print(\"Greater\") \n",
    "else:\n",
    "    print(\"True\")\n",
    "    \n",
    "#Given code\n",
    "print(\"Smaller\") if A == B else print(\"Greater\") if A < B else print(\"True\")\n",
    "\n",
    "#Answer: c. Greater"
   ]
  },
  {
   "cell_type": "code",
   "execution_count": 19,
   "id": "527fb945",
   "metadata": {},
   "outputs": [
    {
     "name": "stdout",
     "output_type": "stream",
     "text": [
      "[2, 7, 3, 5, 4, 6]\n"
     ]
    },
    {
     "ename": "NameError",
     "evalue": "name 'numpy' is not defined",
     "output_type": "error",
     "traceback": [
      "\u001b[1;31m---------------------------------------------------------------------------\u001b[0m",
      "\u001b[1;31mNameError\u001b[0m                                 Traceback (most recent call last)",
      "Input \u001b[1;32mIn [19]\u001b[0m, in \u001b[0;36m<cell line: 7>\u001b[1;34m()\u001b[0m\n\u001b[0;32m      5\u001b[0m my_list1\u001b[38;5;241m=\u001b[39m[\u001b[38;5;241m2\u001b[39m,\u001b[38;5;241m7\u001b[39m,\u001b[38;5;241m3\u001b[39m,\u001b[38;5;241m5\u001b[39m,\u001b[38;5;241m4\u001b[39m,\u001b[38;5;241m6\u001b[39m]\n\u001b[0;32m      6\u001b[0m \u001b[38;5;28mprint\u001b[39m(my_list1)\n\u001b[1;32m----> 7\u001b[0m arr_1\u001b[38;5;241m=\u001b[39m\u001b[43mnumpy\u001b[49m\u001b[38;5;241m.\u001b[39marray(my_list1, dtype\u001b[38;5;241m=\u001b[39m\u001b[38;5;28mint\u001b[39m)\n\u001b[0;32m      8\u001b[0m \u001b[38;5;28mprint\u001b[39m(arr_1)\n",
      "\u001b[1;31mNameError\u001b[0m: name 'numpy' is not defined"
     ]
    }
   ],
   "source": [
    "#Q6. What will be the output of the following code?\n",
    "\n",
    "import os\n",
    "import numpy as np\n",
    "my_list1=[2,7,3,5,4,6]\n",
    "print(my_list1)\n",
    "arr_1=numpy.array(my_list1, dtype=int)\n",
    "print(arr_1)\n",
    "\n",
    "#Answer:c. NameError: name 'numpy' is not defined"
   ]
  },
  {
   "cell_type": "code",
   "execution_count": 21,
   "id": "06b77d70",
   "metadata": {},
   "outputs": [
    {
     "name": "stdout",
     "output_type": "stream",
     "text": [
      "Learn\n"
     ]
    },
    {
     "data": {
      "text/plain": [
       "'Learn'"
      ]
     },
     "execution_count": 21,
     "metadata": {},
     "output_type": "execute_result"
    }
   ],
   "source": [
    "#Q7. Create a string called ‘string’ with the value as “Machine Learning”. Which code(s) is/are appropriate to slice the substring “Learn”?\n",
    "\n",
    "string=\"Machine Learning\"\n",
    "\n",
    "print(string[8:13])\n",
    "print(string[slice(8,13,1)])\n",
    "\n",
    "#slice(start,stop,step)\n",
    "\n",
    "#Answer: d. string[slice(8,13,1)]"
   ]
  },
  {
   "cell_type": "code",
   "execution_count": 50,
   "id": "c33f8f6f",
   "metadata": {},
   "outputs": [
    {
     "name": "stdout",
     "output_type": "stream",
     "text": [
      "[10, 11, 12, 13, 14, 15, 16, 17, 18, 19, 20, 21, 22, 23, 24, 25]\n",
      "14\n",
      "15\n",
      "16\n",
      "17\n",
      "18\n",
      "19\n",
      "20\n",
      "21\n",
      "22\n",
      "23\n",
      "24\n",
      "25\n",
      "26\n",
      "27\n",
      "28\n",
      "29\n",
      "[14, 15, 16, 17, 18, 19, 20, 21, 22, 23, 24, 25, 26, 27, 28, 29]\n",
      "4\n"
     ]
    }
   ],
   "source": [
    "#Q8. Create a sequence of numbers from 10 to 25 and increment by 4. What is the index of the value 18?\n",
    "\n",
    "lst1=[*range(10,26)] #last value not included\n",
    "print(lst1)\n",
    "\n",
    "#argument unpacking operator:*; for the acknowledgement of range within the list\n",
    "\n",
    "lst2=[]  #creating an empty list\n",
    "for x in lst1:\n",
    "    x=x+4\n",
    "    print(x)\n",
    "    lst2.append(x) #adding the incremented outputs to the empty list\n",
    "print(lst2)\n",
    "\n",
    "print(lst2.index(18))\n",
    "    \n",
    "#Answer: 4 according to my list"
   ]
  },
  {
   "cell_type": "code",
   "execution_count": 51,
   "id": "61d12739",
   "metadata": {},
   "outputs": [
    {
     "name": "stdout",
     "output_type": "stream",
     "text": [
      "625 625\n",
      "True\n",
      "False\n",
      "False\n",
      "False\n"
     ]
    }
   ],
   "source": [
    "#Q9. Which of the following is true with respect to the below codes?\n",
    "\n",
    "num1=5**4  #exponent\n",
    "num2=pow(5,4) #5 to the power of 4\n",
    "print(num1,num2)\n",
    "\n",
    "print(num1==num2)\n",
    "print(num1!=num2)\n",
    "print(num1<num2)\n",
    "print(num1>num2)\n",
    "\n",
    "#Answer:a. num1 = num2"
   ]
  },
  {
   "cell_type": "code",
   "execution_count": 52,
   "id": "fb715f3d",
   "metadata": {},
   "outputs": [
    {
     "ename": "NameError",
     "evalue": "name 'var' is not defined",
     "output_type": "error",
     "traceback": [
      "\u001b[1;31m---------------------------------------------------------------------------\u001b[0m",
      "\u001b[1;31mNameError\u001b[0m                                 Traceback (most recent call last)",
      "Input \u001b[1;32mIn [52]\u001b[0m, in \u001b[0;36m<cell line: 4>\u001b[1;34m()\u001b[0m\n\u001b[0;32m      1\u001b[0m \u001b[38;5;66;03m#Q10.A Python NameError exception is raised when: -\u001b[39;00m\n\u001b[0;32m      2\u001b[0m \u001b[38;5;66;03m#a. Trying to access a variable which has not been defined\u001b[39;00m\n\u001b[1;32m----> 4\u001b[0m \u001b[38;5;28mprint\u001b[39m(\u001b[43mvar\u001b[49m)\n",
      "\u001b[1;31mNameError\u001b[0m: name 'var' is not defined"
     ]
    }
   ],
   "source": [
    "#Q10. A Python NameError exception is raised when: -\n",
    "\n",
    "print(var)\n",
    "#Answer: a. Trying to access a variable which has not been defined"
   ]
  },
  {
   "cell_type": "code",
   "execution_count": 53,
   "id": "024babd1",
   "metadata": {},
   "outputs": [
    {
     "ename": "ValueError",
     "evalue": "invalid literal for int() with base 10: 'string'",
     "output_type": "error",
     "traceback": [
      "\u001b[1;31m---------------------------------------------------------------------------\u001b[0m",
      "\u001b[1;31mValueError\u001b[0m                                Traceback (most recent call last)",
      "Input \u001b[1;32mIn [53]\u001b[0m, in \u001b[0;36m<cell line: 4>\u001b[1;34m()\u001b[0m\n\u001b[0;32m      1\u001b[0m \u001b[38;5;66;03m#Q11. What type of exception will be raised for the code given below?\u001b[39;00m\n\u001b[0;32m      3\u001b[0m x\u001b[38;5;241m=\u001b[39m\u001b[38;5;124m\"\u001b[39m\u001b[38;5;124mstring\u001b[39m\u001b[38;5;124m\"\u001b[39m\n\u001b[1;32m----> 4\u001b[0m \u001b[38;5;28;43mint\u001b[39;49m\u001b[43m(\u001b[49m\u001b[43mx\u001b[49m\u001b[43m)\u001b[49m\n",
      "\u001b[1;31mValueError\u001b[0m: invalid literal for int() with base 10: 'string'"
     ]
    }
   ],
   "source": [
    "#Q11. What type of exception will be raised for the code given below?\n",
    "\n",
    "x=\"string\"\n",
    "int(x)\n",
    "\n",
    "#string cannot be an integer\n",
    "#Answer: c. ValueError"
   ]
  },
  {
   "cell_type": "code",
   "execution_count": null,
   "id": "a67feaab",
   "metadata": {},
   "outputs": [],
   "source": [
    "#Q12. A FileNotFoundError exception is raised by operating system errors when: -\n",
    "\n",
    "#Answer: b. A file or directory is requested but does not exist in the working directory"
   ]
  },
  {
   "cell_type": "code",
   "execution_count": 56,
   "id": "c5831abd",
   "metadata": {},
   "outputs": [
    {
     "name": "stdout",
     "output_type": "stream",
     "text": [
      "<class 'str'>\n"
     ]
    }
   ],
   "source": [
    "#Q13. Consider a variable Z. The value of Z is \"ID-5632\". Data type of Z is: -\n",
    "\n",
    "Z=\"ID-5632\"\n",
    "\n",
    "print(type(Z))\n",
    "\n",
    "#Answer: b. Character"
   ]
  },
  {
   "cell_type": "code",
   "execution_count": 60,
   "id": "a35159a1",
   "metadata": {},
   "outputs": [
    {
     "name": "stdout",
     "output_type": "stream",
     "text": [
      "<class 'str'>\n",
      "<class 'str'>\n",
      "<class 'str'>\n"
     ]
    }
   ],
   "source": [
    "#Q14. Which of the following variable(s) are character data type?\n",
    "\n",
    "K= \"4\"\n",
    "print(type(K))\n",
    "\n",
    "J= \"Welcome\"\n",
    "print(type(J))\n",
    "\n",
    "L= \"?\"\n",
    "print(type(L))\n",
    "\n",
    "#Answer: d. All of the above"
   ]
  },
  {
   "cell_type": "code",
   "execution_count": 64,
   "id": "ceaf9e03",
   "metadata": {},
   "outputs": [],
   "source": [
    "#Q15. Choose the symbol/s that does not have the ability to convert any values to string?\n",
    "\n",
    "str1=(\"string\")\n",
    "str2={\"string\"}\n",
    "\n",
    "\n",
    "#Answer:d.#"
   ]
  },
  {
   "cell_type": "code",
   "execution_count": 68,
   "id": "368fe1a7",
   "metadata": {},
   "outputs": [
    {
     "name": "stdout",
     "output_type": "stream",
     "text": [
      "{'India': 'Delhi', 'China': 'Beijing', 'Japan': 'Tokyo', 'Qatar': 'Doha', 'France': 'Marseilles'}\n",
      "{'India': 'Delhi', 'China': 'Beijing', 'Japan': 'Tokyo', 'Qatar': 'Doha', 'France': 'Paris'}\n",
      "{'India': 'Delhi', 'China': 'Beijing', 'Japan': 'Tokyo', 'Qatar': 'Doha', 'France': 'Paris'}\n"
     ]
    }
   ],
   "source": [
    "#Q16.Create a dictionary ‘Country’ that maps the following countries to their capitals respectively:Country India China Japan Qatar France\n",
    "#State Delhi Beijing Tokyo Doha Marseilles\n",
    "#Find 2 commands to replace “Marseilles” with “Paris” is:\n",
    "\n",
    "Country={\"India\":\"Delhi\",\n",
    "        \"China\":\"Beijing\",\n",
    "        \"Japan\":\"Tokyo\",\n",
    "        \"Qatar\":\"Doha\",\n",
    "        \"France\":\"Marseilles\"}\n",
    "print(Country)\n",
    "\n",
    "Country[\"France\"]=\"Paris\" #Command1:accessing the key to replace the variable\n",
    "print(Country)\n",
    "\n",
    "Country2={\"India\":\"Delhi\",\n",
    "        \"China\":\"Beijing\",\n",
    "        \"Japan\":\"Tokyo\",\n",
    "        \"Qatar\":\"Doha\",\n",
    "        \"France\":\"Marseilles\"}\n",
    "\n",
    "Country2.update({\"France\":\"Paris\"}) #Command2:updating the key-value pair\n",
    "print(Country2)"
   ]
  },
  {
   "cell_type": "code",
   "execution_count": 72,
   "id": "fb9f29d8",
   "metadata": {},
   "outputs": [
    {
     "ename": "TypeError",
     "evalue": "'tuple' object does not support item assignment",
     "output_type": "error",
     "traceback": [
      "\u001b[1;31m---------------------------------------------------------------------------\u001b[0m",
      "\u001b[1;31mTypeError\u001b[0m                                 Traceback (most recent call last)",
      "Input \u001b[1;32mIn [72]\u001b[0m, in \u001b[0;36m<cell line: 10>\u001b[1;34m()\u001b[0m\n\u001b[0;32m      7\u001b[0m \u001b[38;5;28mlen\u001b[39m(tuple_2)\n\u001b[0;32m      8\u001b[0m tuple_2 \u001b[38;5;241m+\u001b[39m tuple_1\n\u001b[1;32m---> 10\u001b[0m tuple_1[\u001b[38;5;241m3\u001b[39m] \u001b[38;5;241m=\u001b[39m \u001b[38;5;241m45\u001b[39m\n",
      "\u001b[1;31mTypeError\u001b[0m: 'tuple' object does not support item assignment"
     ]
    }
   ],
   "source": [
    "#Q17. Create the tuples given below: Identify which of the following code does not work on a tuple.\n",
    "\n",
    "tuple_1 = (1,5,6,7,8)\n",
    "tuple_2 = (8,9,4)\n",
    "\n",
    "sum(tuple_1)\n",
    "len(tuple_2)\n",
    "tuple_2 + tuple_1\n",
    "\n",
    "tuple_1[3] = 45\n",
    "\n",
    "#Answer:d. tuple_1[3] = 45 does not work on a tuple."
   ]
  },
  {
   "cell_type": "code",
   "execution_count": 73,
   "id": "c8ae3a02",
   "metadata": {},
   "outputs": [
    {
     "name": "stdout",
     "output_type": "stream",
     "text": [
      "6\n"
     ]
    }
   ],
   "source": [
    "#Q18. How many elements in the following data structure?\n",
    "\n",
    "S={1,2,3,4,4,4,5,6}\n",
    "\n",
    "print(len(S)) #only unique values are counted in a set\n",
    "\n",
    "#Answer:6"
   ]
  },
  {
   "cell_type": "code",
   "execution_count": 3,
   "id": "96ae14e3",
   "metadata": {},
   "outputs": [
    {
     "name": "stdout",
     "output_type": "stream",
     "text": [
      "Enter a natural number: 20\n",
      "3 4 5\n",
      "8 6 10\n",
      "5 12 13\n",
      "15 8 17\n",
      "12 16 20\n"
     ]
    }
   ],
   "source": [
    "#Q19.Write a function which finds all pythagorean triplets of triangles whose sides are no greater than a natural number N\n",
    "\n",
    "N=int(input(\"Enter a natural number: \"))\n",
    "c, m = 0, 2      #2 is used to avoid 0 in range\n",
    "while c < N:\n",
    "    for n in range(1, m):\n",
    "        a = m * m - n * n   #triplets are co-primes (HCF=1)\n",
    "        b = 2 * m * n       #Euclid's formula to generate pythagorean triplets using a pair of integers m,n (m>n>o)\n",
    "        c = m * m + n * n\n",
    "        if c > N:\n",
    "            break\n",
    "        print(a, b, c)\n",
    "    m = m + 1         "
   ]
  }
 ],
 "metadata": {
  "kernelspec": {
   "display_name": "Python 3 (ipykernel)",
   "language": "python",
   "name": "python3"
  },
  "language_info": {
   "codemirror_mode": {
    "name": "ipython",
    "version": 3
   },
   "file_extension": ".py",
   "mimetype": "text/x-python",
   "name": "python",
   "nbconvert_exporter": "python",
   "pygments_lexer": "ipython3",
   "version": "3.9.12"
  }
 },
 "nbformat": 4,
 "nbformat_minor": 5
}
