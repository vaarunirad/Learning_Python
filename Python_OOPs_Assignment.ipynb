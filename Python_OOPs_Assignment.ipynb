{
 "cells": [
  {
   "cell_type": "code",
   "execution_count": 15,
   "id": "bff2a626",
   "metadata": {},
   "outputs": [],
   "source": [
    "#Q1. Write a Python program to demonstrate multiple inheritance.\n",
    "#1. Employee class has 3 data members EmployeeID, Gender (String), Salary and PerformanceRating(Out of 5) of type int. \n",
    "#It has a get() function to get these details from the user.\n",
    "#2. JoiningDetail class has a data member DateOfJoining of type Date and a function getDoJ to get the Date of joining of employees.\n",
    "#3. Information Class uses the marks from Employee class and the DateOfJoining date from the JoiningDetail class \n",
    "#to calculate the top 3 Employees based on their Ratings and then Display, using readData, \n",
    "#all the details on these employees in Ascending order of their Date Of Joining.\n",
    "\n",
    "import datetime as dt  #importing datetime for date type value\n",
    "\n",
    "\n",
    "class Employee:\n",
    "    def __init__(self, _id: str, gender: str, salary: int, perfomance_rating: int):  #constructor\n",
    "        self._id, self.gender, self.salary, self.perfomance_rating = _id, gender, salary, perfomance_rating\n",
    "    \n",
    "    def get__id(self):\n",
    "        return self._id\n",
    "    \n",
    "    def get_gender(self):\n",
    "        return self.gender\n",
    "    \n",
    "    def get_salary(self):\n",
    "        return self.salary\n",
    "    \n",
    "    def get_perf_rat(self):\n",
    "        return self.perfomance_rating    \n",
    "\n",
    "\n",
    "class JoiningDetail(Employee):  #inherits from employee class\n",
    "    def __init__(self, _id: str, gender: str, salary: int, perfomance_rating: int, date: dt.date):\n",
    "        super().__init__(_id, gender, salary, perfomance_rating) #call from previous class\n",
    "        self.date = date\n",
    "    \n",
    "    def get_DoJ(self):\n",
    "        return self.date\n",
    "    \n",
    "    def __str__(self):\n",
    "        return f\"_id {self._id} : {self.date}\\ngender:{self.gender}\\nsalary:{self.salary}\\nperfomance_rating:{self.perfomance_rating}\"\n",
    "\n",
    "\n",
    "class Information(JoiningDetail):\n",
    "    def __init__(self, e_list):\n",
    "        self.e_list = e_list\n",
    "    \n",
    "    def readData(self):\n",
    "        N = len(self.e_list)\n",
    "        for i in range(N-1):\n",
    "            for j in range(N-i-1): #comparing the performance ratings\n",
    "                if self.e_list[j].get_perf_rat() > self.e_list[j+1].get_perf_rat():\n",
    "                    self.e_list[j], self.e_list[j+1] = self.e_list[j+1], self.e_list[j]\n",
    "        \n",
    "        for i in range(3):\n",
    "            for j in range(2 - i):\n",
    "                if self.e_list[j].get_DoJ() > self.e_list[j + 1].get_DoJ():\n",
    "                    self.e_list[j], self.e_list[j+1] = self.e_list[j+1], self.e_list[j]\n",
    "        \n",
    "        return '\\n'.join(list(map(str, self.e_list[:3])))\n",
    "\n"
   ]
  },
  {
   "cell_type": "code",
   "execution_count": 16,
   "id": "9a2b062a",
   "metadata": {},
   "outputs": [
    {
     "name": "stdout",
     "output_type": "stream",
     "text": [
      "_id 3 : 2019-10-01\n",
      "gender:m\n",
      "salary:100\n",
      "perfomance_rating:10\n",
      "_id 1 : 2020-10-30\n",
      "gender:m\n",
      "salary:90\n",
      "perfomance_rating:5\n",
      "_id 2 : 2021-10-12\n",
      "gender:f\n",
      "salary:60\n",
      "perfomance_rating:3\n"
     ]
    }
   ],
   "source": [
    "entry = [('1', 'm', 90, 5, dt.date(2020, 10, 30)), ('2', 'f', 60, 3, dt.date(2021, 10, 12)), ('3', 'm', 100, 10, dt.date(2019, 10, 1))]\n",
    "lst = Information([JoiningDetail(*i) for i in entry])\n",
    "print(lst.readData())"
   ]
  },
  {
   "cell_type": "code",
   "execution_count": 12,
   "id": "7102f2be",
   "metadata": {},
   "outputs": [
    {
     "name": "stdout",
     "output_type": "stream",
     "text": [
      "1250\n"
     ]
    }
   ],
   "source": [
    "#Q.2 Write a Python program to demonstrate Polymorphism.\n",
    "#1. Class Vehicle with a parameterized function Fare, that takes input value as fare and returns it to calling Objects.\n",
    "#2. Create five separate variables Bus, Car, Train, Truck and Ship that call the Fare function.\n",
    "#3. Use a third variable TotalFare to store the sum of fare for each Vehicle Type.\n",
    "#4. Print the TotalFare\n",
    "\n",
    "class Vehicle:\n",
    "    def Fare(self,fare):\n",
    "        self.fare=fare\n",
    "        return(fare)\n",
    "\n",
    "vc=Vehicle()  #object to access the class\n",
    "\n",
    "Bus=vc.Fare(100)\n",
    "Car=vc.Fare(200)\n",
    "Train=vc.Fare(200)\n",
    "Truck=vc.Fare(250)\n",
    "Ship=vc.Fare(500)\n",
    "\n",
    "TotalFare=Bus+Car+Train+Truck+Ship\n",
    "print(TotalFare)"
   ]
  },
  {
   "cell_type": "code",
   "execution_count": 3,
   "id": "a7a1685c",
   "metadata": {},
   "outputs": [
    {
     "name": "stdout",
     "output_type": "stream",
     "text": [
      "Total Run Scored by Each Player in 2 Tests: \n",
      "{'Dhoni': 143, 'Balaji': 285}\n",
      "Player with the highest score\n",
      "('Balaji', 285)\n"
     ]
    }
   ],
   "source": [
    "#Q3. Consider an ongoing test cricket series. Following are the names of the players and their scores in the test1 and 2.\n",
    "#Test Match 1 :\n",
    "#Dhoni : 56 , Balaji : 94\n",
    "#Test Match 2 :\n",
    "#Balaji : 80 , Dravid : 105\n",
    "#Calculate the highest number of runs scored by an individual cricketer in both of the matches.\n",
    "#Create a python function Max_Score (M) that reads a dictionary M that recognizes the player with the highest total score. \n",
    "#This function will return ( Top player , Total Score ) . \n",
    "#You can consider the Top player as String who is the highest scorer and Top score as Integer .\n",
    "#Input : Max_Score({‘test1’:{‘Dhoni’:56, ‘Balaji : 85}, ‘test2’:{‘Dhoni’ 87, ‘Balaji’’:200}})\n",
    "#Output : (‘Balaji ‘ , 200)\n",
    "\n",
    "\n",
    "M={\"test1\":{\"Dhoni\":56, \"Balaji\" : 85}, \n",
    "   \"test2\":{\"Dhoni\": 87, \"Balaji\":200}}    \n",
    "        \n",
    "        \n",
    "def Max_Score(M):\n",
    "    total = {}         #creating an empty dictionary\n",
    "    for k in M.keys():\n",
    "        for n in M[k].keys():        #accessing a nested list\n",
    "            if n in total.keys():\n",
    "                total[n] = total[n] + M[k][n]   #to sum up the scores from both tests\n",
    "            else:\n",
    "                total[n] = M[k][n]\n",
    "    print(\"Total Run Scored by Each Player in 2 Tests: \")\n",
    "    print(total)\n",
    "\n",
    "    print(\"Player with the highest score\")\n",
    "    maxtotal = -1\n",
    "    for n in total.keys():\n",
    "        if total[n] > maxtotal:  #checking the greatest total\n",
    "            maxname = n\n",
    "            maxtotal = total[n]\n",
    "\n",
    "    return (maxname, maxtotal)\n",
    "\n",
    "summary = Max_Score(M)\n",
    "print(summary)"
   ]
  },
  {
   "cell_type": "code",
   "execution_count": null,
   "id": "fdd28316",
   "metadata": {},
   "outputs": [
    {
     "name": "stdout",
     "output_type": "stream",
     "text": [
      "6\n",
      "Correct:You gain 20 points\n",
      "Correct:You gain 20 points\n",
      "Correct:You gain 20 points\n",
      "Correct:You gain 20 points\n",
      "Correct:You gain 20 points\n",
      "Correct:You gain 20 points\n"
     ]
    }
   ],
   "source": [
    "#Q4. Create a simple Card game in which there are 8 cards which are randomly chosen from a deck. \n",
    "#The first card is shown face up. The game asks the player to predict whether the next card in the selection will have a \n",
    "#higher or lower value than the currently showing card.\n",
    "#For example, say the card that’s shown is a 3. The player chooses “higher,” and the next card is shown. \n",
    "#If that card has a higher value, the player is correct. In this example, if the player had chosen “lower,” \n",
    "#they would have been incorrect. If the player guesses correctly, they get 20 points. \n",
    "#If they choose incorrectly, they lose 15 points. If the next card to be turned over has the same value as the previous card, \n",
    "#the player is incorrect.\n",
    "\n",
    "class Card:\n",
    "    values=[None,None,2,3,4,5,6,7,8,9]  \n",
    "\n",
    "from random import shuffle\n",
    "class Deck(Card):\n",
    "    def __init__(self):\n",
    "        self.cards = []\n",
    "        for i in range(2, 10):\n",
    "                self.cards\\\n",
    "                    .append(i)        \n",
    "        shuffle(self.cards)     #shuffling the cards\n",
    "\n",
    "    def rm_card(self):\n",
    "        if len(self.cards) == 0:\n",
    "            return\n",
    "        return self.cards.pop() #showing random face card\n",
    "        \n",
    "    \n",
    "class Game(Deck):\n",
    "    def player(self,x):\n",
    "        self.x=x\n",
    "        while x==\"Higher\":\n",
    "            face=cgame.rm_card() #not sure if this is the correct way\n",
    "            n=0\n",
    "            for n in self.cards:\n",
    "                if n>face:\n",
    "                    print(\"Correct:You gain 20 points\")\n",
    "                elif n<face:\n",
    "                    print(\"Incorrect:You lose 15 points\")\n",
    "                else:\n",
    "                    print(\"Incorrect:The card values are equal\")\n",
    "                break\n",
    "            \n",
    "            \n",
    "class Points(Game):\n",
    "    def total(self,x):\n",
    "        t=0\n",
    "        if (x==\"Higher\"and n>face) and (x==\"Lower\" and n<face):\n",
    "            t+=20\n",
    "        elif (x==\"Higher\"and n<face) and (x==\"Lower\" and n>face):\n",
    "            t-=15\n",
    "        else:\n",
    "            pass\n",
    "        print(f\"Total:{t}\")\n",
    "\n",
    "            \n",
    "cgame=Points()\n",
    "print(cgame.rm_card())\n",
    "print(cgame.player(\"Higher\"))\n",
    "cgame.total(\"Higher\") #total points are not being shown\n"
   ]
  },
  {
   "cell_type": "code",
   "execution_count": 24,
   "id": "7004bdfa",
   "metadata": {},
   "outputs": [
    {
     "name": "stdout",
     "output_type": "stream",
     "text": [
      "{'x_position': 19, 'y_position': 72, 'speed': 'medium'}\n"
     ]
    }
   ],
   "source": [
    "#Q5. Create an empty dictionary called Car_0 . Then fill the dictionary with Keys : color , speed, X_position and Y_position.\n",
    "#car_0 = {'x_position': 10, 'y_position': 72, 'speed': 'medium'} .\n",
    "#a) If the speed is slow the coordinates of the X_pos get incremented by 2.\n",
    "#b) If the speed is Medium the coordinates of the X_pos gets incremented by 9\n",
    "#c) Now if the speed is Fast the coordinates of the X_pos gets incremented by 22.\n",
    "#Print the modified dictionary.\n",
    "\n",
    "Car_0={}\n",
    "Car_0[\"x_position\"]=10\n",
    "Car_0[\"y_position\"]=72\n",
    "Car_0[\"speed\"]=\"medium\"\n",
    "\n",
    "for itms in Car_0:\n",
    "    if Car_0[\"speed\"]==\"slow\":\n",
    "        Car_0[\"x_position\"]+=2\n",
    "        break\n",
    "    elif Car_0[\"speed\"]==\"medium\":\n",
    "        Car_0[\"x_position\"]+=9\n",
    "        break\n",
    "    elif Car_0[\"speed\"]==\"fast\":\n",
    "        Car_0[\"x_position\"]+=22\n",
    "        break\n",
    "        \n",
    "print(Car_0)\n",
    "        "
   ]
  },
  {
   "cell_type": "code",
   "execution_count": 2,
   "id": "22161077",
   "metadata": {},
   "outputs": [
    {
     "name": "stdout",
     "output_type": "stream",
     "text": [
      "The payment done by you is: 8000 \n",
      "The balance is 4000\n"
     ]
    }
   ],
   "source": [
    "#Q6. Show a basic implementation of abstraction in python using the abstract classes.\n",
    "#1. Create an abstract class in python.\n",
    "#2. Implement abstraction with the other classes and base class as abstract class.\n",
    "\n",
    "from abc import ABC, abstractmethod\n",
    "class trans(ABC):\n",
    "    @abstractmethod  #for making the method into an abstraction; when hiding the inner details is a requirement\n",
    "    def transaction(self):\n",
    "        pass\n",
    "\n",
    "class payment(trans):\n",
    "    def transaction(self):\n",
    "        print(\"The payment done by you is: 8000 \")\n",
    "        \n",
    "pay=payment()\n",
    "pay.transaction()\n",
    "\n",
    "class check_balance(trans):\n",
    "    def transaction(self):\n",
    "        print(\"The balance is 4000\")\n",
    "\n",
    "ck=check_balance()\n",
    "ck.transaction()\n"
   ]
  },
  {
   "cell_type": "code",
   "execution_count": 22,
   "id": "a061aeed",
   "metadata": {},
   "outputs": [
    {
     "name": "stdout",
     "output_type": "stream",
     "text": [
      "The value of a is: 10\n",
      "The protected variable: 20\n",
      "Private variable: 30\n"
     ]
    },
    {
     "ename": "AttributeError",
     "evalue": "'Access' object has no attribute '__c'",
     "output_type": "error",
     "traceback": [
      "\u001b[1;31m---------------------------------------------------------------------------\u001b[0m",
      "\u001b[1;31mAttributeError\u001b[0m                            Traceback (most recent call last)",
      "Input \u001b[1;32mIn [22]\u001b[0m, in \u001b[0;36m<cell line: 17>\u001b[1;34m()\u001b[0m\n\u001b[0;32m     15\u001b[0m obj\u001b[38;5;241m.\u001b[39mshow()\n\u001b[0;32m     16\u001b[0m obj\u001b[38;5;241m.\u001b[39m_b  \u001b[38;5;66;03m#Protected: can be called from outside\u001b[39;00m\n\u001b[1;32m---> 17\u001b[0m \u001b[43mobj\u001b[49m\u001b[38;5;241;43m.\u001b[39;49m\u001b[43m__c\u001b[49m \u001b[38;5;66;03m#Private and not accessible outside the class\u001b[39;00m\n\u001b[0;32m     19\u001b[0m \u001b[38;5;66;03m#Name Mangling technique: used to access private member from outside the class\u001b[39;00m\n\u001b[0;32m     21\u001b[0m obj\u001b[38;5;241m.\u001b[39m_Access__c \u001b[38;5;66;03m#accessing private member from outside the class\u001b[39;00m\n",
      "\u001b[1;31mAttributeError\u001b[0m: 'Access' object has no attribute '__c'"
     ]
    }
   ],
   "source": [
    "#Q7. Create a program in python to demonstrate Polymorphism.\n",
    "#1. Make use of private and protected members using python name mangling techniques.\n",
    "\n",
    "class Access:\n",
    "    a=10; #public variable\n",
    "    _b=20 #protected\n",
    "    __c=30 #private\n",
    "    def show(self):   \n",
    "        print(\"The value of a is:\",self.a)\n",
    "        print(\"The protected variable:\",self._b)\n",
    "        print(\"Private variable:\",self.__c)\n",
    "        \n",
    "obj=Access() #creating an object to access the class\n",
    "\n",
    "obj.show()\n",
    "obj._b  #Protected: can be called from outside\n",
    "obj.__c #Private and not accessible outside the class; shows error\n",
    "\n",
    "#Name Mangling technique: used to access private member from outside the class\n",
    "\n",
    "obj._Access__c #accessing private member from outside the class\n",
    "print(obj._Access__c)"
   ]
  },
  {
   "cell_type": "code",
   "execution_count": 3,
   "id": "8c2392a2",
   "metadata": {},
   "outputs": [
    {
     "name": "stdout",
     "output_type": "stream",
     "text": [
      "[1, 4, 9, 16, 25, 36, 49, 64, 81, 100, 121, 144, 169, 196, 225, 256, 289, 324, 361, 400, 441, 484, 529, 576, 625, 676, 729, 784, 841, 900, 961, 1024, 1089, 1156, 1225, 1296, 1369, 1444, 1521, 1600, 1681, 1764, 1849, 1936, 2025, 2116, 2209, 2304, 2401, 2500]\n"
     ]
    }
   ],
   "source": [
    "#Q8. Given a list of 50 natural numbers from 1-50. Create a function that will take every element \n",
    "#from the list and return the square of each element. Use the python map and filter methods (to filter for a condition(similar to map)) \n",
    "#to implement the function on the given list.\n",
    "\n",
    "squared=lambda x:x**2 #creating a function to square the elements\n",
    "\n",
    "num_list=[*range(1,51)] #creating a list of 50 natural numbers\n",
    "#argument unpacking operator-*\n",
    "\n",
    "sq_num_list=list(map(squared,num_list)) \n",
    "#map function:to apply a function on the members of a list and to store in another list\n",
    "print(sq_num_list)"
   ]
  },
  {
   "cell_type": "code",
   "execution_count": 4,
   "id": "48f629a7",
   "metadata": {},
   "outputs": [],
   "source": [
    "#Q9. Create a class, Triangle. Its init() method should take self, angle1, angle2, and angle3 as arguments.\n",
    "\n",
    "class Triangle:\n",
    "    def __init__(self, angle1, angle2, angle3):\n",
    "        self.angle1=angle1\n",
    "        self.angle2=angle2\n",
    "        self.angle3=angle3\n",
    "        "
   ]
  },
  {
   "cell_type": "code",
   "execution_count": 5,
   "id": "b8c0aea3",
   "metadata": {},
   "outputs": [],
   "source": [
    "#Q10. Create a class variable named number_of_sides and set it equal to 3.\n",
    "\n",
    "class sides:\n",
    "       number_of_sides=3 "
   ]
  },
  {
   "cell_type": "code",
   "execution_count": 4,
   "id": "a0d0b5c4",
   "metadata": {},
   "outputs": [
    {
     "name": "stdout",
     "output_type": "stream",
     "text": [
      "True : The angles belong to a Triangle\n"
     ]
    }
   ],
   "source": [
    "#Q11. Create a method named check_angles. The sum of a triangle's three angles should return\n",
    "#True if the sum is equal to 180, and False otherwise. The method should print whether the\n",
    "#angles belong to a triangle or not.\n",
    "\n",
    "class Triangles:\n",
    "    def check_angles(self, ang1, ang2, ang3):\n",
    "        self.ang1=ang1\n",
    "        self.ang2=ang2\n",
    "        self.ang3=ang3\n",
    "        if ang1+ang2+ang3==180:\n",
    "            print(True,\": The angles belong to a Triangle\")\n",
    "        else:\n",
    "            print(False,\": The angles do not belong to a Triangle\")\n",
    "            \n",
    "tri=Triangles()\n",
    "tri.check_angles(90,45,45)"
   ]
  },
  {
   "cell_type": "code",
   "execution_count": 7,
   "id": "2854d318",
   "metadata": {},
   "outputs": [
    {
     "name": "stdout",
     "output_type": "stream",
     "text": [
      "The angles belong to an acute triangle\n"
     ]
    }
   ],
   "source": [
    "#11.1 Write methods to verify if the triangle is an acute triangle or obtuse triangle.\n",
    "\n",
    "class Triangle_type:\n",
    "    def check_triangle(self, ang1, ang2, ang3):\n",
    "        self.ang1=ang1\n",
    "        self.ang2=ang2\n",
    "        self.ang3=ang3\n",
    "        while 0<ang1 and ang2 and ang3<180:\n",
    "            if ang1<90 and ang2<90 and ang3<90: #condition for an acute triangle\n",
    "                print(\"The angles belong to an acute triangle\")\n",
    "            elif ang1>90 or ang2>90 or ang3>90: #condition for an obtuse triangle\n",
    "                print(\"The angles belong to an obtuse triangle\")\n",
    "            else:\n",
    "                print(\"The angles belong to neither an acute nor obtuse triangle\")\n",
    "            break  #to break from the while loop\n",
    "            \n",
    "tri=Triangle_type()\n",
    "tri.check_triangle(60,60,60)"
   ]
  },
  {
   "cell_type": "code",
   "execution_count": 8,
   "id": "4854b0ff",
   "metadata": {},
   "outputs": [
    {
     "name": "stdout",
     "output_type": "stream",
     "text": [
      "Checking the angles of a triangle: \n",
      "False : The angles do not belong to a Triangle\n",
      "The angles belong to an obtuse triangle\n"
     ]
    }
   ],
   "source": [
    "#11.2 Create an instance of the triangle class and call all the defined methods.\n",
    "\n",
    "class triangle(Triangles,Triangle_type):  #Multiple Inheritance\n",
    "    print(\"Checking the angles of a triangle: \")\n",
    "    \n",
    "tri=triangle()\n",
    "tri.check_angles(120,40,30) #calling the method from Triangles class\n",
    "tri.check_triangle(120,30,30) #calling the method from Triangle_type class"
   ]
  },
  {
   "cell_type": "code",
   "execution_count": 12,
   "id": "6c788a30",
   "metadata": {},
   "outputs": [
    {
     "name": "stdout",
     "output_type": "stream",
     "text": [
      "It is an isosceles triangle\n",
      "Not a right triangle\n",
      "It is an equilateral triangle\n"
     ]
    }
   ],
   "source": [
    "#11.3 Create three child classes of triangle class - isosceles_triangle, right_triangle and equilateral_triangle\n",
    "#11.4 Define methods which check for their properties.\n",
    "\n",
    "class isosceles_triangle(triangle):  #child of triangle class\n",
    "    def isos(self,side1,side2,side3):   #sides of the triangle as arguments\n",
    "        self.side1=side1\n",
    "        self.side2=side2\n",
    "        self.side3=side3\n",
    "        while side1 and side2 and side3!=0:\n",
    "            if side1==side2 or side2==side3 or side3==side1:\n",
    "                print(\"It is an isosceles triangle\")\n",
    "            else:\n",
    "                print(\"Not an isosceles triangle\")\n",
    "            break\n",
    "                \n",
    "class right_triangle(triangle):  #child of triangle class\n",
    "    def right(self,side1,side2,side3):   \n",
    "        self.side1=side1\n",
    "        self.side2=side2\n",
    "        self.side3=side3\n",
    "        while side1 and side2 and side3!=0:\n",
    "            num_list=[side1,side2,side3]   #creating a list of the sides\n",
    "            x,y,z=sorted(num_list)      #sorting the numbers in an ascending order\n",
    "            if x**2+y**2==z**2:\n",
    "                print(\"It is a right triangle\")\n",
    "            else:\n",
    "                print(\"Not a right triangle\")\n",
    "            break\n",
    "\n",
    "class equilateral_triangle(triangle):  #child of triangle class\n",
    "    def equi(self,side1,side2,side3):\n",
    "        self.side1=side1\n",
    "        self.side2=side2\n",
    "        self.side3=side3\n",
    "        while side1 and side2 and side3!=0:\n",
    "            if side1==side2==side3:\n",
    "                print(\"It is an equilateral triangle\")\n",
    "            else:\n",
    "                print(\"Not an equilateral triangle\")\n",
    "            break\n",
    "                \n",
    "iso=isosceles_triangle()  #checking for isosceles triangle\n",
    "iso.isos(8,9,9)\n",
    "\n",
    "rt=right_triangle()  #checking for right triangle\n",
    "rt.right(4,3,6)\n",
    "\n",
    "eq=equilateral_triangle() #checking for equilateral triangle\n",
    "eq.equi(4,4,4)"
   ]
  },
  {
   "cell_type": "code",
   "execution_count": 21,
   "id": "0dbb00f1",
   "metadata": {},
   "outputs": [
    {
     "name": "stdout",
     "output_type": "stream",
     "text": [
      "It is an isosceles triangle\n",
      "Not a right triangle\n",
      "Not an isosceles right triangle\n"
     ]
    }
   ],
   "source": [
    "#Q12. Create a class isosceles_right_triangle which inherits from isosceles_triangle and right_triangle.\n",
    "#12.1 Define methods which check for their properties.\n",
    "\n",
    "class isosceles_right_triangle(isosceles_triangle,right_triangle):\n",
    "    def isos_right(self,side1,side2,side3):\n",
    "        self.side1=side1\n",
    "        self.side2=side2\n",
    "        self.side3=side3\n",
    "        while side1 and side2 and side3!=0:\n",
    "            num_list=[side1,side2,side3]   #creating a list of the sides\n",
    "            x,y,z=sorted(num_list)      #sorting the numbers in an ascending order\n",
    "            if (x**2+y**2==z**2) and (x==y or y==x or x==z):\n",
    "                print(\"It is an isosceles right triangle\")\n",
    "            else:\n",
    "                print(\"Not an isosceles right triangle\")\n",
    "            break\n",
    "\n",
    "iso_rt=isosceles_right_triangle()\n",
    "iso_rt.isos(3,3,4)    #calling isos method from isosceles triangle class\n",
    "iso_rt.right(3,3,4)   #calling right method from right triangle class\n",
    "iso_rt.isos_right(3,3,4)"
   ]
  }
 ],
 "metadata": {
  "kernelspec": {
   "display_name": "Python 3 (ipykernel)",
   "language": "python",
   "name": "python3"
  },
  "language_info": {
   "codemirror_mode": {
    "name": "ipython",
    "version": 3
   },
   "file_extension": ".py",
   "mimetype": "text/x-python",
   "name": "python",
   "nbconvert_exporter": "python",
   "pygments_lexer": "ipython3",
   "version": "3.9.12"
  }
 },
 "nbformat": 4,
 "nbformat_minor": 5
}
